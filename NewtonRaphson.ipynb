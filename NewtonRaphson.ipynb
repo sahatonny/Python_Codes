{
  "nbformat": 4,
  "nbformat_minor": 0,
  "metadata": {
    "colab": {
      "name": "NewtonRaphson.ipynb",
      "provenance": [],
      "collapsed_sections": [],
      "authorship_tag": "ABX9TyPCzgeqgUVM8DBf2AK3X5cN",
      "include_colab_link": true
    },
    "kernelspec": {
      "name": "python3",
      "display_name": "Python 3"
    },
    "language_info": {
      "name": "python"
    }
  },
  "cells": [
    {
      "cell_type": "markdown",
      "metadata": {
        "id": "view-in-github",
        "colab_type": "text"
      },
      "source": [
        "<a href=\"https://colab.research.google.com/github/sahatonny/Python_Codes/blob/main/NewtonRaphson.ipynb\" target=\"_parent\"><img src=\"https://colab.research.google.com/assets/colab-badge.svg\" alt=\"Open In Colab\"/></a>"
      ]
    },
    {
      "cell_type": "code",
      "metadata": {
        "id": "sJ72JckjXNEy"
      },
      "source": [
        "def f(x):\n",
        "    return  x * x * x - x * x + 2\n",
        "def derivFunc(x):\n",
        "    return 3*x*x - 2*x\n",
        "\n",
        "def newton_raphson(x,i,n):\n",
        "    a = 1\n",
        "    b = 1\n",
        "    condition = True\n",
        "    while condition:\n",
        "        if derivFunc(x) == 0.0:\n",
        "            print(\"Divide by zero error\")\n",
        "            break\n",
        "            h = f(x) / derivFunc(x)\n",
        "            x = x - h\n",
        "            a = a+1\n",
        "        if a > n:\n",
        "            b = 0\n",
        "            break\n",
        "        condition = abs(f(x)) > i\n",
        "    if b == 1:\n",
        "          print(\"Root: %0.8f\"%x)\n",
        "    else:\n",
        "          print(\"Not convergent\")\n",
        "\n",
        "x = float(input(\"Guess: \"))\n",
        "i = float(input(\"Tolerance error: \"))\n",
        "n = int(input(\"Max iteration: \"))\n",
        "newton_raphson(x,i,n)\n"
      ],
      "execution_count": null,
      "outputs": []
    }
  ]
}