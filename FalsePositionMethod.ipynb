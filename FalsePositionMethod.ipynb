{
  "nbformat": 4,
  "nbformat_minor": 0,
  "metadata": {
    "colab": {
      "name": "FalsePositionMethod.ipynb",
      "provenance": [],
      "authorship_tag": "ABX9TyNAcgeWi3sM7EJFoaBkCI3l",
      "include_colab_link": true
    },
    "kernelspec": {
      "name": "python3",
      "display_name": "Python 3"
    },
    "language_info": {
      "name": "python"
    }
  },
  "cells": [
    {
      "cell_type": "markdown",
      "metadata": {
        "id": "view-in-github",
        "colab_type": "text"
      },
      "source": [
        "<a href=\"https://colab.research.google.com/github/sahatonny/Python_Codes/blob/main/FalsePositionMethod.ipynb\" target=\"_parent\"><img src=\"https://colab.research.google.com/assets/colab-badge.svg\" alt=\"Open In Colab\"/></a>"
      ]
    },
    {
      "cell_type": "code",
      "metadata": {
        "id": "pp7NbvIjz48E"
      },
      "source": [
        "MAX_ITER = 10000000"
      ],
      "execution_count": null,
      "outputs": []
    },
    {
      "cell_type": "code",
      "metadata": {
        "id": "dHd-PdFq0147"
      },
      "source": [
        "def f(x):\n",
        "    return 5*x*x - 3*x -14"
      ],
      "execution_count": null,
      "outputs": []
    },
    {
      "cell_type": "code",
      "metadata": {
        "id": "soANRTLtOivW"
      },
      "source": [
        "def g(l,u):\n",
        "    return ( l*f(u)-u*f(l) ) / (f(u)-f(l) )"
      ],
      "execution_count": null,
      "outputs": []
    },
    {
      "cell_type": "code",
      "metadata": {
        "id": "rn4pb_zdPCW9",
        "colab": {
          "base_uri": "https://localhost:8080/"
        },
        "outputId": "62584140-0c66-403e-fb19-f18d0b51b3f7"
      },
      "source": [
        "def false_position(a,b):\n",
        "    if f(a) * f(b) > 0:\n",
        "       print(\"Not possible\")\n",
        "       return\n",
        "\n",
        "    c = a\n",
        "    for i in range(MAX_ITER):\n",
        "        c = g(a,b)\n",
        "        if f(c) == 0.0:\n",
        "           break\n",
        "        elif f(a) * f(c) < 0:\n",
        "           b = c\n",
        "        else:\n",
        "           a = c\n",
        "    return c\n",
        "\n",
        "a = int(input())\n",
        "b = int(input())\n",
        "print(false_position(a,b))            "
      ],
      "execution_count": null,
      "outputs": [
        {
          "output_type": "stream",
          "name": "stdout",
          "text": [
            "200\n",
            "300\n",
            "Not possible\n",
            "None\n"
          ]
        }
      ]
    },
    {
      "cell_type": "markdown",
      "metadata": {
        "id": "hG1yaG8zPx3_"
      },
      "source": [
        "a = int(input())\n",
        "b = int(input())\n",
        "print(false_position(a,b))"
      ]
    }
  ]
}