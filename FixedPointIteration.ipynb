{
  "nbformat": 4,
  "nbformat_minor": 0,
  "metadata": {
    "colab": {
      "name": "FixedPointIteration.ipynb",
      "provenance": [],
      "collapsed_sections": [],
      "authorship_tag": "ABX9TyORFM2EUGwIOJ9UpW7aW/aD",
      "include_colab_link": true
    },
    "kernelspec": {
      "name": "python3",
      "display_name": "Python 3"
    },
    "language_info": {
      "name": "python"
    }
  },
  "cells": [
    {
      "cell_type": "markdown",
      "metadata": {
        "id": "view-in-github",
        "colab_type": "text"
      },
      "source": [
        "<a href=\"https://colab.research.google.com/github/sahatonny/Python_Codes/blob/main/FixedPointIteration.ipynb\" target=\"_parent\"><img src=\"https://colab.research.google.com/assets/colab-badge.svg\" alt=\"Open In Colab\"/></a>"
      ]
    },
    {
      "cell_type": "code",
      "metadata": {
        "id": "6U7SxcJdQVHw"
      },
      "source": [
        "import math"
      ],
      "execution_count": null,
      "outputs": []
    },
    {
      "cell_type": "code",
      "metadata": {
        "id": "ANIKHG87RtV2"
      },
      "source": [
        "def f(x):\n",
        "    return x*x*x + x*x -1"
      ],
      "execution_count": null,
      "outputs": []
    },
    {
      "cell_type": "code",
      "metadata": {
        "id": "lwU8m8nhR0Tr"
      },
      "source": [
        "def g(x):\n",
        "    return 1 / math.sqrt(1+x)"
      ],
      "execution_count": null,
      "outputs": []
    },
    {
      "cell_type": "code",
      "metadata": {
        "id": "vrYnWGbhSB0V",
        "colab": {
          "base_uri": "https://localhost:8080/"
        },
        "outputId": "05525333-5fa5-46e8-cbc9-f9023859c165"
      },
      "source": [
        "def fixed_point_iteration(x0,i,n):\n",
        "    a = 1\n",
        "    b = 1\n",
        "    condition = True\n",
        "    while condition:\n",
        "          x1 = g(x0)\n",
        "          x0 = x1\n",
        "          a = a+1\n",
        "          if a > n:\n",
        "             b = 0\n",
        "             break\n",
        "          condition = abs(f(x1)) > i\n",
        "    if b == 1:\n",
        "         print(\"Root :%0.8f\"%x1)\n",
        "    else:\n",
        "         print(\"Not convergent\")  \n",
        "\n",
        "x0 = float(input(\"Guess: \"))\n",
        "i = float(input(\"Tolerance error: \"))\n",
        "n = int(input(\"Max iteration: \"))\n",
        "print(fixed_point_iteration(x0,i,n)) \n",
        "             "
      ],
      "execution_count": null,
      "outputs": [
        {
          "output_type": "stream",
          "name": "stdout",
          "text": [
            "Guess: 3\n",
            "Tolerance error: 0.0005\n",
            "Max iteration: 50\n",
            "Root :0.75500674\n",
            "None\n"
          ]
        }
      ]
    },
    {
      "cell_type": "markdown",
      "metadata": {
        "id": "AfG-XQeJTNND"
      },
      "source": [
        "x0 = float(input())\n",
        "i = float(input())\n",
        "n = int(input())\n",
        "print(fixed_point_iteration(x0,i,n))"
      ]
    }
  ]
}