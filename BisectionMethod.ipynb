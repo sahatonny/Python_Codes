{
  "nbformat": 4,
  "nbformat_minor": 0,
  "metadata": {
    "colab": {
      "name": "BisectionMethod.ipynb",
      "provenance": [],
      "collapsed_sections": [],
      "authorship_tag": "ABX9TyNe9WBSDO/SXHiymgep1Ndu",
      "include_colab_link": true
    },
    "kernelspec": {
      "display_name": "Python 3",
      "name": "python3"
    },
    "language_info": {
      "name": "python"
    }
  },
  "cells": [
    {
      "cell_type": "markdown",
      "metadata": {
        "id": "view-in-github",
        "colab_type": "text"
      },
      "source": [
        "<a href=\"https://colab.research.google.com/github/sahatonny/Python_Codes/blob/main/BisectionMethod.ipynb\" target=\"_parent\"><img src=\"https://colab.research.google.com/assets/colab-badge.svg\" alt=\"Open In Colab\"/></a>"
      ]
    },
    {
      "cell_type": "code",
      "metadata": {
        "colab": {
          "base_uri": "https://localhost:8080/"
        },
        "id": "M1O0SEvoKcfh",
        "outputId": "322764f8-8f7b-4223-9ae4-8731bb1c9b72"
      },
      "source": [
        "def f(x):\n",
        "    return 5*x*x - 3*x -14\n",
        "def bisection(a,b):\n",
        "    if f(a) * f(b) > 0:\n",
        "       print(\"Not possible\")\n",
        "       return\n",
        "      \n",
        "    c = a \n",
        "    while (b - a) >= 0.01:\n",
        "           c = (a+b) / 2\n",
        "           if f(c) == 0.0:\n",
        "               break\n",
        "           if f(c) * f(a) < 0:\n",
        "               b = c \n",
        "\n",
        "           else:\n",
        "               a = c\n",
        "    return c\n",
        "a = int(input(\"Lower limit: \"))\n",
        "b = int(input(\"Upper limit: \"))\n",
        "print(bisection(a,b))"
      ],
      "execution_count": null,
      "outputs": [
        {
          "output_type": "stream",
          "name": "stdout",
          "text": [
            "Lower limit: 2\n",
            "Upper limit: 3\n",
            "2.9921875\n"
          ]
        }
      ]
    },
    {
      "cell_type": "markdown",
      "metadata": {
        "id": "S-JqH8VzLlDM"
      },
      "source": [
        "a = int(input())\n",
        "b = int(input())\n",
        "print(bisection(a,b))"
      ]
    }
  ]
}