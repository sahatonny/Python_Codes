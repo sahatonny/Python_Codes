{
  "nbformat": 4,
  "nbformat_minor": 0,
  "metadata": {
    "colab": {
      "name": "SecantMethod.ipynb",
      "provenance": [],
      "collapsed_sections": [],
      "authorship_tag": "ABX9TyPPR/40UlOGc488kX4VIl/6",
      "include_colab_link": true
    },
    "kernelspec": {
      "name": "python3",
      "display_name": "Python 3"
    },
    "language_info": {
      "name": "python"
    }
  },
  "cells": [
    {
      "cell_type": "markdown",
      "metadata": {
        "id": "view-in-github",
        "colab_type": "text"
      },
      "source": [
        "<a href=\"https://colab.research.google.com/github/sahatonny/Python_Codes/blob/main/SecantMethod.ipynb\" target=\"_parent\"><img src=\"https://colab.research.google.com/assets/colab-badge.svg\" alt=\"Open In Colab\"/></a>"
      ]
    },
    {
      "cell_type": "code",
      "metadata": {
        "id": "0WNxn-ydY8Sr"
      },
      "source": [
        "def f(x):\n",
        "    return x**3 - 5*x - 9"
      ],
      "execution_count": null,
      "outputs": []
    },
    {
      "cell_type": "code",
      "metadata": {
        "id": "v4hmYYThZMEP",
        "colab": {
          "base_uri": "https://localhost:8080/"
        },
        "outputId": "af67bc88-d4f7-4105-f582-6bf174f953f8"
      },
      "source": [
        "def secant(x0,x1,i,n):\n",
        "    a = 1\n",
        "    condition = True\n",
        "    while condition:\n",
        "         if f(x0) == f(x1):\n",
        "            print(\"Divide by zero error\")\n",
        "            break\n",
        "         x2 = x0 - (x1 - x0) * f(x0) / (f(x1)-f(x0))\n",
        "         x0 = x1\n",
        "         x1 = x2\n",
        "         a = a+1\n",
        "         if a > n:\n",
        "            print(\"Not convergent\")\n",
        "            break\n",
        "         condition = abs(f(x2)) > i\n",
        "    print(\"Root: %0.8f\"%x2) \n",
        "\n",
        "  \n",
        "x0 = float(input('First guess :')) \n",
        "x1 = float(input('Second guess :')) \n",
        "i = float(input('Tolerance error: ')) \n",
        "n = int(input('Maximum iteration :')) \n",
        "secant(x0,x1,i,n)"
      ],
      "execution_count": null,
      "outputs": [
        {
          "output_type": "stream",
          "name": "stdout",
          "text": [
            "First guess :1\n",
            "Second guess :2\n",
            "Tolerance error: 0.00001\n",
            "Maximum iteration :50\n",
            "Root: 2.85519654\n"
          ]
        }
      ]
    },
    {
      "cell_type": "markdown",
      "metadata": {
        "id": "eOqUkzw1aXW9"
      },
      "source": [
        "x0 = float(input())\n",
        "x1 = float(input())\n",
        "i = float(input())\n",
        "n = int(input())\n",
        "secant(x0,x1,i,n)"
      ]
    }
  ]
}